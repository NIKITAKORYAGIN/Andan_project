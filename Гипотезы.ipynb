{
 "cells": [
  {
   "cell_type": "code",
   "execution_count": 30,
   "id": "34af021e",
   "metadata": {},
   "outputs": [],
   "source": [
    "import pandas as pd\n",
    "import matplotlib.pyplot as plt\n",
    "import statistics\n",
    "import seaborn as sns\n",
    "import scipy.stats as sts\n",
    "import numpy as np\n",
    "from statsmodels.stats.proportion import proportions_ztest"
   ]
  },
  {
   "cell_type": "code",
   "execution_count": 31,
   "id": "65588450",
   "metadata": {},
   "outputs": [
    {
     "data": {
      "text/html": [
       "<div>\n",
       "<style scoped>\n",
       "    .dataframe tbody tr th:only-of-type {\n",
       "        vertical-align: middle;\n",
       "    }\n",
       "\n",
       "    .dataframe tbody tr th {\n",
       "        vertical-align: top;\n",
       "    }\n",
       "\n",
       "    .dataframe thead th {\n",
       "        text-align: right;\n",
       "    }\n",
       "</style>\n",
       "<table border=\"1\" class=\"dataframe\">\n",
       "  <thead>\n",
       "    <tr style=\"text-align: right;\">\n",
       "      <th></th>\n",
       "      <th>Срок размещения объявления (дней)</th>\n",
       "      <th>Модель машины</th>\n",
       "      <th>Год выпуска</th>\n",
       "      <th>Пробег, км</th>\n",
       "      <th>Цена машины, ₽</th>\n",
       "      <th>Тип машины</th>\n",
       "      <th>Привод</th>\n",
       "      <th>Тип бензина</th>\n",
       "      <th>Ссылка</th>\n",
       "    </tr>\n",
       "  </thead>\n",
       "  <tbody>\n",
       "    <tr>\n",
       "      <th>0</th>\n",
       "      <td>0</td>\n",
       "      <td>BMW X7 4.4 AT</td>\n",
       "      <td>2024</td>\n",
       "      <td>1</td>\n",
       "      <td>21900000</td>\n",
       "      <td>внедорожник</td>\n",
       "      <td>полный</td>\n",
       "      <td>бензин</td>\n",
       "      <td>https://www.avito.ru/moskva/avtomobili/bmw_x7_...</td>\n",
       "    </tr>\n",
       "    <tr>\n",
       "      <th>1</th>\n",
       "      <td>0</td>\n",
       "      <td>BMW 7 серия 3.0 AT</td>\n",
       "      <td>2023</td>\n",
       "      <td>50</td>\n",
       "      <td>17000000</td>\n",
       "      <td>седан</td>\n",
       "      <td>полный</td>\n",
       "      <td>дизель</td>\n",
       "      <td>https://www.avito.ru/moskva/avtomobili/bmw_7_s...</td>\n",
       "    </tr>\n",
       "    <tr>\n",
       "      <th>2</th>\n",
       "      <td>0</td>\n",
       "      <td>BMW X7 3.0 AT</td>\n",
       "      <td>2024</td>\n",
       "      <td>1</td>\n",
       "      <td>16900000</td>\n",
       "      <td>внедорожник</td>\n",
       "      <td>полный</td>\n",
       "      <td>дизель</td>\n",
       "      <td>https://www.avito.ru/moskva/avtomobili/bmw_x7_...</td>\n",
       "    </tr>\n",
       "    <tr>\n",
       "      <th>3</th>\n",
       "      <td>0</td>\n",
       "      <td>BMW XM 4.4 AT</td>\n",
       "      <td>2023</td>\n",
       "      <td>15</td>\n",
       "      <td>25490000</td>\n",
       "      <td>внедорожник</td>\n",
       "      <td>полный</td>\n",
       "      <td>гибрид</td>\n",
       "      <td>https://www.avito.ru/moskva/avtomobili/bmw_xm_...</td>\n",
       "    </tr>\n",
       "    <tr>\n",
       "      <th>4</th>\n",
       "      <td>5</td>\n",
       "      <td>BMW X7 3.0 AT</td>\n",
       "      <td>2020</td>\n",
       "      <td>65000</td>\n",
       "      <td>10190000</td>\n",
       "      <td>внедорожник</td>\n",
       "      <td>полный</td>\n",
       "      <td>дизель</td>\n",
       "      <td>https://www.avito.ru/moskva/avtomobili/bmw_x7_...</td>\n",
       "    </tr>\n",
       "    <tr>\n",
       "      <th>...</th>\n",
       "      <td>...</td>\n",
       "      <td>...</td>\n",
       "      <td>...</td>\n",
       "      <td>...</td>\n",
       "      <td>...</td>\n",
       "      <td>...</td>\n",
       "      <td>...</td>\n",
       "      <td>...</td>\n",
       "      <td>...</td>\n",
       "    </tr>\n",
       "    <tr>\n",
       "      <th>4989</th>\n",
       "      <td>7</td>\n",
       "      <td>BMW 6 серия GT 2.0 AT</td>\n",
       "      <td>2020</td>\n",
       "      <td>83252</td>\n",
       "      <td>5399000</td>\n",
       "      <td>лифтбек</td>\n",
       "      <td>полный</td>\n",
       "      <td>дизель</td>\n",
       "      <td>https://www.avito.ru/moskva/avtomobili/bmw_6_s...</td>\n",
       "    </tr>\n",
       "    <tr>\n",
       "      <th>4990</th>\n",
       "      <td>4</td>\n",
       "      <td>BMW 3 серия 2.0 AT</td>\n",
       "      <td>2014</td>\n",
       "      <td>139000</td>\n",
       "      <td>2155000</td>\n",
       "      <td>седан</td>\n",
       "      <td>полный</td>\n",
       "      <td>дизель</td>\n",
       "      <td>https://www.avito.ru/moskva/avtomobili/bmw_3_s...</td>\n",
       "    </tr>\n",
       "    <tr>\n",
       "      <th>4991</th>\n",
       "      <td>7</td>\n",
       "      <td>BMW 4 серия 2.0 AT</td>\n",
       "      <td>2014</td>\n",
       "      <td>83549</td>\n",
       "      <td>2919700</td>\n",
       "      <td>купе</td>\n",
       "      <td>полный</td>\n",
       "      <td>дизель</td>\n",
       "      <td>https://www.avito.ru/moskva/avtomobili/bmw_4_s...</td>\n",
       "    </tr>\n",
       "    <tr>\n",
       "      <th>4992</th>\n",
       "      <td>7</td>\n",
       "      <td>BMW 3 серия 2.0 AT</td>\n",
       "      <td>2019</td>\n",
       "      <td>44260</td>\n",
       "      <td>3877140</td>\n",
       "      <td>седан</td>\n",
       "      <td>задний</td>\n",
       "      <td>бензин</td>\n",
       "      <td>https://www.avito.ru/moskva/avtomobili/bmw_3_s...</td>\n",
       "    </tr>\n",
       "    <tr>\n",
       "      <th>4993</th>\n",
       "      <td>7</td>\n",
       "      <td>BMW 5 серия 3.0 AT</td>\n",
       "      <td>2019</td>\n",
       "      <td>95405</td>\n",
       "      <td>4650000</td>\n",
       "      <td>седан</td>\n",
       "      <td>полный</td>\n",
       "      <td>дизель</td>\n",
       "      <td>https://www.avito.ru/moskva/avtomobili/bmw_5_s...</td>\n",
       "    </tr>\n",
       "  </tbody>\n",
       "</table>\n",
       "<p>4994 rows × 9 columns</p>\n",
       "</div>"
      ],
      "text/plain": [
       "      Срок размещения объявления (дней)          Модель машины  Год выпуска  \\\n",
       "0                                     0          BMW X7 4.4 AT         2024   \n",
       "1                                     0     BMW 7 серия 3.0 AT         2023   \n",
       "2                                     0          BMW X7 3.0 AT         2024   \n",
       "3                                     0          BMW XM 4.4 AT         2023   \n",
       "4                                     5          BMW X7 3.0 AT         2020   \n",
       "...                                 ...                    ...          ...   \n",
       "4989                                  7  BMW 6 серия GT 2.0 AT         2020   \n",
       "4990                                  4     BMW 3 серия 2.0 AT         2014   \n",
       "4991                                  7     BMW 4 серия 2.0 AT         2014   \n",
       "4992                                  7     BMW 3 серия 2.0 AT         2019   \n",
       "4993                                  7     BMW 5 серия 3.0 AT         2019   \n",
       "\n",
       "      Пробег, км  Цена машины, ₽   Тип машины  Привод Тип бензина  \\\n",
       "0              1        21900000  внедорожник  полный      бензин   \n",
       "1             50        17000000        седан  полный      дизель   \n",
       "2              1        16900000  внедорожник  полный      дизель   \n",
       "3             15        25490000  внедорожник  полный      гибрид   \n",
       "4          65000        10190000  внедорожник  полный      дизель   \n",
       "...          ...             ...          ...     ...         ...   \n",
       "4989       83252         5399000      лифтбек  полный      дизель   \n",
       "4990      139000         2155000        седан  полный      дизель   \n",
       "4991       83549         2919700         купе  полный      дизель   \n",
       "4992       44260         3877140        седан  задний      бензин   \n",
       "4993       95405         4650000        седан  полный      дизель   \n",
       "\n",
       "                                                 Ссылка  \n",
       "0     https://www.avito.ru/moskva/avtomobili/bmw_x7_...  \n",
       "1     https://www.avito.ru/moskva/avtomobili/bmw_7_s...  \n",
       "2     https://www.avito.ru/moskva/avtomobili/bmw_x7_...  \n",
       "3     https://www.avito.ru/moskva/avtomobili/bmw_xm_...  \n",
       "4     https://www.avito.ru/moskva/avtomobili/bmw_x7_...  \n",
       "...                                                 ...  \n",
       "4989  https://www.avito.ru/moskva/avtomobili/bmw_6_s...  \n",
       "4990  https://www.avito.ru/moskva/avtomobili/bmw_3_s...  \n",
       "4991  https://www.avito.ru/moskva/avtomobili/bmw_4_s...  \n",
       "4992  https://www.avito.ru/moskva/avtomobili/bmw_3_s...  \n",
       "4993  https://www.avito.ru/moskva/avtomobili/bmw_5_s...  \n",
       "\n",
       "[4994 rows x 9 columns]"
      ]
     },
     "execution_count": 31,
     "metadata": {},
     "output_type": "execute_result"
    }
   ],
   "source": [
    "df = pd.read_csv('ТаблицаПреобраз.csv')\n",
    "df"
   ]
  },
  {
   "cell_type": "markdown",
   "id": "e3084ad9",
   "metadata": {},
   "source": [
    "**Гипотеза 1:** На авито более 96% машин имеют пробег. Заметим, что у нас большая выборка, поэтому среднее значение каждого признака будет описываться нормальным распределением. Пусть уровень значимости (погрешность) будет 5%."
   ]
  },
  {
   "cell_type": "markdown",
   "id": "44125f31",
   "metadata": {},
   "source": [
    "Пусть р - это вероятность того, что у машины нулевой пробег. \n",
    "Проверим гипотезу с помощью z-теста"
   ]
  },
  {
   "cell_type": "markdown",
   "id": "62584d0d",
   "metadata": {},
   "source": [
    "Тогда $: p = 0.95$$, p < 0.95 {  \\Rightarrow } \\ z_{test} =\\ (p'- 0,95) * (1\\ /\\sqrt{(p'*(1 - p') \\ / \\ n}\\ \\overset{asy}{\\sim} N(0, 1), \\ z_{критическое} = -z_{0.975}.$\n"
   ]
  },
  {
   "cell_type": "code",
   "execution_count": 106,
   "id": "e58389f7",
   "metadata": {
    "scrolled": true
   },
   "outputs": [
    {
     "name": "stdout",
     "output_type": "stream",
     "text": [
      "1.5001058812589858\n",
      "-1.959963984540054\n",
      "Принимаем нулевую гипотезу\n"
     ]
    }
   ],
   "source": [
    "n = df.shape[0]\n",
    "probeg_cars = 0\n",
    "for i in df[\"Пробег, км\"]:\n",
    "    if i != 0:\n",
    "        probeg_cars += 1\n",
    "p_comma = probeg_cars/n\n",
    "z_test = (p_comma - 0.96) / (np.sqrt(p_comma * (1 - p_comma) / n))\n",
    "z_критическое = - sts.norm.ppf(0.975) #нашёл в чате гпт, как находить квантили нормального распределения в питоне\n",
    "print(z_test)\n",
    "print(z_критическое)\n",
    "if z_test < z_критическое:\n",
    "    print(\"Отвергаем нулевую гипотезу\")\n",
    "else:\n",
    "    print(\"Принимаем нулевую гипотезу\")\n"
   ]
  },
  {
   "cell_type": "markdown",
   "id": "57e52fa4",
   "metadata": {},
   "source": [
    "Получили, что при 95%-ом доверительном интервале 96 и более процентов автомобилей БМВ на авито имеют пробег. Данная информация полезна для того, чтобы люди не пытались купить новые машины на авито, здесь большинство поддержанных авто. "
   ]
  },
  {
   "cell_type": "markdown",
   "id": "40fb5ba8",
   "metadata": {},
   "source": [
    "Далее рассмотрим снижение цены авто в зависимости от пробега."
   ]
  },
  {
   "cell_type": "markdown",
   "id": "11d430b9",
   "metadata": {},
   "source": [
    "**Гипотеза 2:** Машины, у которых пробег более 250 000 км стоят в среднем на 20% дешевле, чем машины до 125 000 км пробега."
   ]
  },
  {
   "cell_type": "code",
   "execution_count": null,
   "id": "f6c9d4c0",
   "metadata": {},
   "outputs": [],
   "source": []
  },
  {
   "cell_type": "markdown",
   "id": "ce613ea7",
   "metadata": {},
   "source": [
    "***далее нужно сделать новую папку, где сделать несколько новых признаков в таблице: спостроить новые колонки в таблице по признакам тип машины,привод, тип бензина"
   ]
  },
  {
   "cell_type": "code",
   "execution_count": null,
   "id": "0c9770fb",
   "metadata": {},
   "outputs": [],
   "source": []
  },
  {
   "cell_type": "code",
   "execution_count": null,
   "id": "f9809f86",
   "metadata": {},
   "outputs": [],
   "source": []
  },
  {
   "cell_type": "code",
   "execution_count": null,
   "id": "9365647e",
   "metadata": {},
   "outputs": [],
   "source": []
  },
  {
   "cell_type": "code",
   "execution_count": null,
   "id": "2e1b4a0e",
   "metadata": {},
   "outputs": [],
   "source": []
  },
  {
   "cell_type": "code",
   "execution_count": null,
   "id": "4c04c7da",
   "metadata": {},
   "outputs": [],
   "source": []
  }
 ],
 "metadata": {
  "kernelspec": {
   "display_name": "Python 3 (ipykernel)",
   "language": "python",
   "name": "python3"
  },
  "language_info": {
   "codemirror_mode": {
    "name": "ipython",
    "version": 3
   },
   "file_extension": ".py",
   "mimetype": "text/x-python",
   "name": "python",
   "nbconvert_exporter": "python",
   "pygments_lexer": "ipython3",
   "version": "3.11.2"
  }
 },
 "nbformat": 4,
 "nbformat_minor": 5
}
